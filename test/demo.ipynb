{
 "cells": [
  {
   "cell_type": "markdown",
   "metadata": {},
   "source": [
    "A demo for calculating an approximate pseudoinverse $A^\\dagger$ of the LPnetlib/lp\\_fit2d matrix from the UF sparse matrix collection"
   ]
  },
  {
   "cell_type": "code",
   "execution_count": 39,
   "metadata": {
    "collapsed": true
   },
   "outputs": [],
   "source": [
    "workspace()   # Clear all"
   ]
  },
  {
   "cell_type": "code",
   "execution_count": 42,
   "metadata": {
    "collapsed": false
   },
   "outputs": [
    {
     "name": "stderr",
     "output_type": "stream",
     "text": [
      "WARNING: replacing module Pseudoinverse\n",
      "WARNING: ignoring conflicting import of Pseudoinverse.uniform_sym_rank into Main\n",
      "WARNING: ignoring conflicting import of Pseudoinverse.Output into Main\n",
      "WARNING: ignoring conflicting import of Pseudoinverse.plot_outputs_Plots into Main\n",
      "WARNING: ignoring conflicting import of Pseudoinverse.uniform_mat_rank into Main\n",
      "WARNING: ignoring conflicting import of Pseudoinverse.Method into Main\n",
      "WARNING: ignoring conflicting import of Pseudoinverse.pseudoinvert_matrix into Main\n",
      "WARNING: ignoring conflicting import of Pseudoinverse.MyOptions into Main\n",
      "WARNING: ignoring conflicting import of Pseudoinverse.Prob into Main\n"
     ]
    }
   ],
   "source": [
    "using Plots\n",
    "using MatrixDepot   # for downloading and loading matrices from the UF sparse matrix collection\n",
    "using StatsBase\n",
    "using JLD  \n",
    "include(\"../src/Pseudoinverse.jl\")\n",
    "importall Pseudoinverse"
   ]
  },
  {
   "cell_type": "code",
   "execution_count": 43,
   "metadata": {
    "collapsed": false
   },
   "outputs": [
    {
     "data": {
      "text/plain": [
       "(25,10524)"
      ]
     },
     "execution_count": 43,
     "metadata": {},
     "output_type": "execute_result"
    }
   ],
   "source": [
    "# Test rank deficient matrices from UF sparse matrix collection\n",
    "name = \"LPnetlib/lp_fit2d\"  \n",
    "#matrixdepot(name, :get);    # Use this for first time execution ONLY\n",
    "A = matrixdepot(name, :read);\n",
    "exacterror =false;\n",
    "sA= size(A); m= sA[1] ; n = sA[2];\n",
    "prob = Prob(A,[],[], [], name);\n",
    "size(A)"
   ]
  },
  {
   "cell_type": "code",
   "execution_count": 44,
   "metadata": {
    "collapsed": true
   },
   "outputs": [],
   "source": [
    "#Basic parameters\n",
    "tol = 10.0^(-2); restol = 10.0^(-3);\n",
    "maxiter=1000;\n",
    "max_time = 2;\n",
    "printiters = true;\n",
    "exacterror =false;"
   ]
  },
  {
   "cell_type": "code",
   "execution_count": 45,
   "metadata": {
    "collapsed": false
   },
   "outputs": [
    {
     "data": {
      "text/plain": [
       "Pseudoinverse.MyOptions(10524,25,0,\"uni\",0.01,0.001,1000,1,2.0,true,false,\"none\")"
      ]
     },
     "execution_count": 45,
     "metadata": {},
     "output_type": "execute_result"
    }
   ],
   "source": [
    "skip_error_calculation = 1;   # number of iterations where error is not calculated (to save time!) ceil((m)^(1/2))\n",
    "options = MyOptions(n,m,0,\"uni\",tol,restol,maxiter,skip_error_calculation,max_time,printiters,exacterror, \"none\") "
   ]
  },
  {
   "cell_type": "code",
   "execution_count": 46,
   "metadata": {
    "collapsed": false
   },
   "outputs": [
    {
     "name": "stdout",
     "output_type": "stream",
     "text": [
      "SATAX-uni\n",
      "-------------------\n",
      "It   | Error% | Residual |  Time   \n",
      "-------------------\n",
      "  1  | 100.00  |  0.00  | 0.3813 \n",
      "SATAX-ada\n",
      "-------------------\n",
      "It   | Error% | Residual |  Time   \n",
      "-------------------\n",
      "  1  | 100.00  |  0.12  | 0.0074 \n",
      "  2  | 100.00  |  0.12  | 0.0191 \n",
      "  3  | 100.00  |  0.10  | 0.0253 \n",
      "  4  | 100.00  |  0.80  | 0.0316 \n",
      "  5  | 100.00  |  0.13  | 0.0387 \n",
      "  6  | 100.00  |  0.37  | 0.0448 \n",
      "  7  | 100.00  |  0.17  | 0.0504 \n",
      "  8  | 100.00  |  0.09  | 0.0567 \n",
      "NewtonSchulz\n",
      "-------------------\n",
      "It   | Error% | Residual |  Time   \n",
      "-------------------\n",
      "  1  | 100.00  |  77.62  | 1.3484 \n",
      "  2  | 100.00  |  55.17  | 3.3375 \n",
      "  3  | 100.00  |  37.93  | 5.8008 \n",
      "  3  | 100.00  |  37.93  | 5.8008 \n"
     ]
    }
   ],
   "source": [
    "# Testing three methods\n",
    "options.max_time = 5; \n",
    "options.restol = 10.0^(-3);\n",
    "OUTPUTS = [];\n",
    "method_name = \"SATAX\";#\"SATAX\"; \"NewtonSchultz\" \"SAXAS\"\n",
    "options.sketch = \"uni\";\n",
    "options.M0type = \"ATproj\";   # Select initial matrix, options: ATproj, eye\n",
    "output= pseudoinvert_matrix(prob, method_name, options);\n",
    "OUTPUTS = [OUTPUTS ; output];\n",
    "\n",
    "options.sketch = \"ada\";\n",
    "options.M0type = \"ATproj\";\n",
    "output= pseudoinvert_matrix(prob, method_name, options);\n",
    "OUTPUTS = [OUTPUTS ; output];\n",
    "\n",
    "method_name = \"NewtonSchulz\";\n",
    "output= pseudoinvert_matrix(prob, method_name, options);\n",
    "OUTPUTS = [OUTPUTS ; output];"
   ]
  },
  {
   "cell_type": "code",
   "execution_count": 47,
   "metadata": {
    "collapsed": false
   },
   "outputs": [],
   "source": [
    "savename = replace(prob.name, r\"[\\/]\", \"-\");\n",
    "save(\"../data/$(savename).jld\", \"OUTPUTS\", OUTPUTS)"
   ]
  },
  {
   "cell_type": "code",
   "execution_count": 53,
   "metadata": {
    "collapsed": false
   },
   "outputs": [
    {
     "ename": "LoadError",
     "evalue": "LoadError: UndefVarError: pyplots not defined\nwhile loading In[53], in expression starting on line 3",
     "output_type": "error",
     "traceback": [
      "LoadError: UndefVarError: pyplots not defined\nwhile loading In[53], in expression starting on line 3",
      ""
     ]
    }
   ],
   "source": [
    "# Plotting execution of methods and saving plot in ../figures/\n",
    "pgfplots()\n",
    "plot_outputs_Plots(OUTPUTS,savename)"
   ]
  },
  {
   "cell_type": "code",
   "execution_count": null,
   "metadata": {
    "collapsed": true
   },
   "outputs": [],
   "source": []
  }
 ],
 "metadata": {
  "anaconda-cloud": {},
  "kernelspec": {
   "display_name": "Julia 0.5.0",
   "language": "julia",
   "name": "julia-0.5"
  },
  "language_info": {
   "file_extension": ".jl",
   "mimetype": "application/julia",
   "name": "julia",
   "version": "0.5.0"
  }
 },
 "nbformat": 4,
 "nbformat_minor": 1
}
