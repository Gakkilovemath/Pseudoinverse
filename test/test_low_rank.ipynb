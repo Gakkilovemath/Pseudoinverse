{
 "cells": [
  {
   "cell_type": "markdown",
   "metadata": {},
   "source": [
    "Testing how the methods performs as we increase the rank of $A$"
   ]
  },
  {
   "cell_type": "code",
   "execution_count": 1,
   "metadata": {
    "collapsed": true
   },
   "outputs": [],
   "source": [
    "workspace()"
   ]
  },
  {
   "cell_type": "code",
   "execution_count": 4,
   "metadata": {
    "collapsed": false
   },
   "outputs": [
    {
     "name": "stderr",
     "output_type": "stream",
     "text": [
      "WARNING: replacing module Pseudoinverse\n"
     ]
    }
   ],
   "source": [
    "using Plots\n",
    "using JLD\n",
    "include(\"../src/Pseudoinverse.jl\")\n",
    "importall Pseudoinverse"
   ]
  },
  {
   "cell_type": "code",
   "execution_count": 2,
   "metadata": {
    "collapsed": false
   },
   "outputs": [],
   "source": [
    "#Basic parameters\n",
    "tol = 10.0^(-2); restol = 10.0^(-4);\n",
    "maxiter=1000;\n",
    "max_time = 10;\n",
    "printiters = false;\n",
    "exacterror =false;"
   ]
  },
  {
   "cell_type": "code",
   "execution_count": null,
   "metadata": {
    "collapsed": false
   },
   "outputs": [],
   "source": [
    "n = 50;\n",
    "m= 10;\n",
    "max_time = 5;\n",
    "rs = 1:1:10;\n",
    "methodstot = 3;\n",
    "prob = uniform_mat_rank(m,n,1);\n",
    "TIMES = zeros(length(rs),methodstot);\n",
    "FLOPS = zeros(length(rs),methodstot);\n",
    "names = [];\n",
    "OUTPUTS = [];\n",
    "options = MyOptions(n,m,0 ,\"uni\",tol,restol, maxiter,1,max_time,printiters,exacterror, \"none\") \n",
    "A = randn(m,n);   # randn(n,n)\n",
    "(U, S, V)= svd(A);\n",
    "\n",
    "for i =1:length(rs)\n",
    "    r = rs[i]; methodcount =1;\n",
    "    A= U[:, 1: r]* diagm(S[1: r])* V[:, 1: r]';\n",
    "    title = string(\"uniform-random\" , string(m) , \"X\" , string(n) , \"_r_\" , string(r))\n",
    "    prob.A =A;\n",
    "    prob.name = title;\n",
    "#     prob = uniform_mat_rank(m,n,r);\n",
    "    OUTPUTS = [];\n",
    "    options.skip_error_calculation = 2;#ceil((n)^(1/3))\n",
    "    \n",
    "    method_name = \"SATAX\";#\"SATAX\"; \"NewtonSchultz\" \"SAXAS\"\n",
    "    options.sketch = \"ada\";\n",
    "    options.M0type = \"ATproj\";\n",
    "    output= pseudoinvert_matrix(prob, method_name, options);\n",
    "    OUTPUTS = [OUTPUTS ; output];\n",
    "    names= [names; output.name];\n",
    "    TIMES[i,methodcount] = output.times[end]; \n",
    "    FLOPS[i,methodcount] = output.flopsperiter*output.iterations; \n",
    "    methodcount+=1; \n",
    "\n",
    "    \n",
    "    options.sketch = \"uni\";\n",
    "    options.M0type = \"ATproj\";\n",
    "    output= pseudoinvert_matrix(prob, method_name, options);\n",
    "    OUTPUTS = [OUTPUTS ; output];\n",
    "    names= [names; output.name];\n",
    "    TIMES[i,methodcount] = output.times[end]; \n",
    "    FLOPS[i,methodcount] = output.flopsperiter*output.iterations; \n",
    "    methodcount+=1;     \n",
    "\n",
    "    method_name = \"NewtonSchulz\";#\"SATAX\"; \"NewtonSchultz\" \"SAXAS\"\n",
    "    output= pseudoinvert_matrix(prob, method_name, options);\n",
    "    OUTPUTS = [OUTPUTS ; output];\n",
    "    names= [names; output.name];\n",
    "    TIMES[i,methodcount] = output.times[end]; \n",
    "    FLOPS[i,methodcount] = output.flopsperiter*output.iterations; \n",
    "    methodcount+=1; \n",
    "end\n"
   ]
  },
  {
   "cell_type": "code",
   "execution_count": null,
   "metadata": {
    "collapsed": false
   },
   "outputs": [],
   "source": [
    "pgfplots()\n",
    "# Plotting times\n",
    "Ys = TIMES;\n",
    "plot(rs,Ys[:,1],label  = names[1],linestyle=:auto, marker =:auto,xlabel = \"rank\", ylabel = \"times\",  grid = false)\n",
    "for i =2:methodstot\n",
    "    plot!(rs,Ys[:,i],label  = names[i],linestyle=:auto, marker =:auto, grid = false)\n",
    "end     \n",
    "savefig(\"figures/$(prob.name)-rs-times.pdf\");\n",
    "# Plotting flops\n",
    "Ys = FLOPS./maximum(FLOPS);\n",
    "plot(rs,Ys[:,1],label  = names[1],linestyle=:auto, marker =:auto, xlabel = \"rank\", ylabel = \"flops\", grid = false)\n",
    "for i =2:methodstot\n",
    "    plot!(rs,Ys[:,i],label  = names[i],linestyle=:auto, marker =:auto, grid = false)\n",
    "end\n",
    "\n",
    "savefig(\"figures/$(prob.name)-rs-flops.pdf\");"
   ]
  },
  {
   "cell_type": "code",
   "execution_count": null,
   "metadata": {
    "collapsed": false
   },
   "outputs": [],
   "source": [
    "save(\"./data/$(prob.name).jld\", \"TIMES\", TIMES, \"FLOPS\", FLOPS, \"names\", names)"
   ]
  },
  {
   "cell_type": "code",
   "execution_count": 6,
   "metadata": {
    "collapsed": false
   },
   "outputs": [],
   "source": [
    "# Load saved data\n",
    "probname = \"uniform-random-sym-8000_r_1801\"#\"gisette_scale-ridge\";\n",
    "test = load(\"./data/$(probname).jld\")\n",
    "TIMES = test[\"TIMES\"];\n",
    "FLOPS = test[\"FLOPS\"];\n",
    "names = test[\"names\"];"
   ]
  },
  {
   "cell_type": "code",
   "execution_count": null,
   "metadata": {
    "collapsed": true
   },
   "outputs": [],
   "source": []
  }
 ],
 "metadata": {
  "anaconda-cloud": {},
  "kernelspec": {
   "display_name": "Julia 0.5.0",
   "language": "julia",
   "name": "julia-0.5"
  },
  "language_info": {
   "file_extension": ".jl",
   "mimetype": "application/julia",
   "name": "julia",
   "version": "0.5.0"
  }
 },
 "nbformat": 4,
 "nbformat_minor": 1
}
