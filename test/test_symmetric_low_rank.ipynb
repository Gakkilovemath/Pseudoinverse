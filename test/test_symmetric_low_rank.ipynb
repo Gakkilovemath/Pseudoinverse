{
 "cells": [
  {
   "cell_type": "code",
   "execution_count": 13,
   "metadata": {
    "collapsed": true
   },
   "outputs": [],
   "source": [
    "workspace()"
   ]
  },
  {
   "cell_type": "code",
   "execution_count": 21,
   "metadata": {
    "collapsed": false
   },
   "outputs": [
    {
     "name": "stderr",
     "output_type": "stream",
     "text": [
      "WARNING: replacing module pseudoinverse\n",
      "WARNING: ignoring conflicting import of pseudoinverse.Output into Main\n",
      "WARNING: ignoring conflicting import of pseudoinverse.MyOptions into Main\n",
      "WARNING: ignoring conflicting import of pseudoinverse.plot_outputs_Plots into Main\n",
      "WARNING: ignoring conflicting import of pseudoinverse.uniform_mat_rank into Main\n",
      "WARNING: ignoring conflicting import of pseudoinverse.Prob into Main\n",
      "WARNING: ignoring conflicting import of pseudoinverse.uniform_sym_rank into Main\n",
      "WARNING: ignoring conflicting import of pseudoinverse.pseudoinvert_matrix into Main\n",
      "WARNING: ignoring conflicting import of pseudoinverse.Method into Main\n"
     ]
    }
   ],
   "source": [
    "using Plots\n",
    "using JLD\n",
    "include(\"../src/Pseudoinverse.jl\")\n",
    "importall Pseudoinverse"
   ]
  },
  {
   "cell_type": "code",
   "execution_count": 22,
   "metadata": {
    "collapsed": false
   },
   "outputs": [],
   "source": [
    "#Basic parameters\n",
    "tol = 10.0^(-2); restol = 10.0^(-4);\n",
    "maxiter=1000;\n",
    "max_time = 10;\n",
    "printiters = false;\n",
    "exacterror =false;\n"
   ]
  },
  {
   "cell_type": "code",
   "execution_count": 23,
   "metadata": {
    "collapsed": false
   },
   "outputs": [
    {
     "name": "stdout",
     "output_type": "stream",
     "text": [
      "SAXAS-uni\n",
      "SAXAS-uni-eye\n",
      "SAXAS-ada-eye\n",
      "SAXAS-ada\n",
      "NewtonSchulz\n",
      "SAXAS-uni\n",
      "SAXAS-uni-eye\n",
      "SAXAS-ada-eye\n",
      "SAXAS-ada\n",
      "NewtonSchulz\n",
      "SAXAS-uni\n",
      "SAXAS-uni-eye\n",
      "SAXAS-ada-eye\n",
      "SAXAS-ada\n",
      "NewtonSchulz\n",
      "SAXAS-uni\n",
      "SAXAS-uni-eye\n",
      "SAXAS-ada-eye\n",
      "SAXAS-ada\n",
      "NewtonSchulz\n",
      "SAXAS-uni\n",
      "SAXAS-uni-eye\n",
      "SAXAS-ada-eye\n",
      "SAXAS-ada\n",
      "NewtonSchulz\n",
      "SAXAS-uni\n",
      "SAXAS-uni-eye\n",
      "SAXAS-ada-eye\n",
      "SAXAS-ada\n",
      "NewtonSchulz\n",
      "SAXAS-uni\n",
      "SAXAS-uni-eye\n",
      "SAXAS-ada-eye\n",
      "SAXAS-ada\n",
      "NewtonSchulz\n",
      "SAXAS-uni\n",
      "SAXAS-uni-eye\n",
      "SAXAS-ada-eye\n",
      "SAXAS-ada\n",
      "NewtonSchulz\n",
      "SAXAS-uni\n",
      "SAXAS-uni-eye\n",
      "SAXAS-ada-eye\n",
      "SAXAS-ada\n",
      "NewtonSchulz\n",
      "SAXAS-uni\n",
      "SAXAS-uni-eye\n",
      "SAXAS-ada-eye\n",
      "SAXAS-ada\n",
      "NewtonSchulz\n"
     ]
    }
   ],
   "source": [
    "n = 100;\n",
    "max_time = 2000;\n",
    "rs = 1:10:100;\n",
    "methodstot = 7;\n",
    "prob = uniform_sym_rank(n,1); \n",
    "TIMES = zeros(length(rs),methodstot);\n",
    "FLOPS = zeros(length(rs),methodstot);\n",
    "names = [];\n",
    "OUTPUTS = [];\n",
    "options = MyOptions(n,n,0 ,\"uni\",tol,restol, maxiter,1,max_time,printiters,exacterror, \"none\") \n",
    "\n",
    " A = randn(n,n);   # randn(n,n)\n",
    " A = A'+A;\n",
    " (U, S, V)= svd(A);\n",
    "\n",
    "for i =1:length(rs)\n",
    "    r = rs[i]; methodcount =1;\n",
    "    \n",
    "    A= U[:, 1: r]* diagm(S[1: r])* U[:, 1: r]';\n",
    "    title = string(\"uniform-random-sym-\" , string(n) , \"_r_\" , string(r))\n",
    "    prob.A = A;\n",
    "    prob.name =  title;\n",
    "    \n",
    "    OUTPUTS = [];\n",
    "    options.skip_error_calculation = 2;#ceil((n)^(1/3))\n",
    "    \n",
    "    method_name = \"SAXAS\";#\"SATAX\"; \"NewtonSchultz\" \"SAXAS\"\n",
    "    options.sketch = \"uni\";\n",
    "    options.M0type = \"ATAnorm\";\n",
    "    output= pseudoinvert_matrix(prob, method_name, options);\n",
    "    OUTPUTS = [OUTPUTS ; output];\n",
    "    names= [names; output.name];\n",
    "    TIMES[i,methodcount] = output.times[end]; \n",
    "    FLOPS[i,methodcount] = output.flopsperiter*output.iterations; \n",
    "    methodcount+=1; \n",
    "\n",
    "    \n",
    "#     options.M0type = \"Aproj\";\n",
    "#     output= pseudoinvert_matrix(prob, method_name, options);\n",
    "#     OUTPUTS = [OUTPUTS ; output];\n",
    "#     names= [names; output.name];\n",
    "#     TIMES[i,methodcount] = output.times[end]; \n",
    "#     FLOPS[i,methodcount] = output.flopsperiter*output.iterations; \n",
    "#     methodcount+=1; \n",
    "    \n",
    "        \n",
    "    options.M0type = \"eye\";\n",
    "    output= pseudoinvert_matrix(prob, method_name, options);\n",
    "    OUTPUTS = [OUTPUTS ; output];\n",
    "    names= [names; output.name];\n",
    "    TIMES[i,methodcount] = output.times[end]; \n",
    "    FLOPS[i,methodcount] = output.flopsperiter*output.iterations; \n",
    "    methodcount+=1; \n",
    "    \n",
    "    \n",
    "    method_name = \"SAXAS\";#\"SATAX\"; \"NewtonSchultz\" \"SAXAS\"\n",
    "    options.sketch = \"ada\";\n",
    "    options.M0type = \"eye\";\n",
    "    output= pseudoinvert_matrix(prob, method_name, options);\n",
    "    OUTPUTS = [OUTPUTS ; output];\n",
    "    names= [names; output.name];\n",
    "    TIMES[i,methodcount] = output.times[end]; \n",
    "    FLOPS[i,methodcount] = output.flopsperiter*output.iterations; \n",
    "    methodcount+=1; \n",
    "    \n",
    "    options.M0type = \"ATAnorm\";\n",
    "    output= pseudoinvert_matrix(prob, method_name, options);\n",
    "    OUTPUTS = [OUTPUTS ; output];\n",
    "    names= [names; output.name];\n",
    "    TIMES[i,methodcount] = output.times[end]; \n",
    "    FLOPS[i,methodcount] = output.flopsperiter*output.iterations; \n",
    "    methodcount+=1; \n",
    "    \n",
    "#     options.M0type = \"Aproj\";\n",
    "#     output= pseudoinvert_matrix(prob, method_name, options);\n",
    "#     OUTPUTS = [OUTPUTS ; output];\n",
    "#     names= [names; output.name];\n",
    "#     TIMES[i,methodcount] = output.times[end]; \n",
    "#     FLOPS[i,methodcount] = output.flopsperiter*output.iterations; \n",
    "#     methodcount+=1; \n",
    "\n",
    "\n",
    "    method_name = \"NewtonSchulz\";#\"SATAX\"; \"NewtonSchultz\" \"SAXAS\"\n",
    "    output= pseudoinvert_matrix(prob, method_name, options);\n",
    "    OUTPUTS = [OUTPUTS ; output];\n",
    "    names= [names; output.name];\n",
    "    TIMES[i,methodcount] = output.times[end]; \n",
    "    FLOPS[i,methodcount] = output.flopsperiter*output.iterations; \n",
    "    methodcount+=1; \n",
    "end\n"
   ]
  },
  {
   "cell_type": "code",
   "execution_count": 25,
   "metadata": {
    "collapsed": false
   },
   "outputs": [],
   "source": [
    "#gr()\n",
    "pgfplots()\n",
    "# Plotting times\n",
    "Ys = TIMES;\n",
    "plot(rs,Ys[:,1],label  = names[1],linestyle=:auto, marker =:auto,xlabel = \"rank\", ylabel = \"times\",  grid = false)\n",
    "for i =2:methodstot\n",
    "    plot!(rs,Ys[:,i],label  = names[i],linestyle=:auto, marker =:auto, grid = false)\n",
    "end     \n",
    "savefig(\"figures/$(prob.name)-rs-times.pdf\");\n",
    "# Plotting flops\n",
    "Ys = FLOPS./maximum(FLOPS);\n",
    "plot(rs,Ys[:,1],label  = names[1],linestyle=:auto, marker =:auto, xlabel = \"rank\", ylabel = \"flops\", grid = false)\n",
    "for i =2:methodstot\n",
    "    plot!(rs,Ys[:,i],label  = names[i],linestyle=:auto, marker =:auto, grid = false)\n",
    "end\n",
    "\n",
    "savefig(\"figures/$(prob.name)-rs-flops.pdf\");\n",
    "save(\"./data/$(prob.name).jld\", \"TIMES\", TIMES, \"FLOPS\", FLOPS, \"names\", names)"
   ]
  },
  {
   "cell_type": "code",
   "execution_count": 6,
   "metadata": {
    "collapsed": false
   },
   "outputs": [],
   "source": [
    "probname = \"uniform-random-sym-8000_r_1801\"#\"gisette_scale-ridge\";\n",
    "test = load(\"./data/$(probname).jld\")\n",
    "TIMES = test[\"TIMES\"];"
   ]
  },
  {
   "cell_type": "code",
   "execution_count": 18,
   "metadata": {
    "collapsed": false
   },
   "outputs": [
    {
     "name": "stdout",
     "output_type": "stream",
     "text": [
      "uniform-random-sym-10000_r_1751\n"
     ]
    }
   ],
   "source": [
    "gr()\n",
    "savename = replace(prob.name, r\"[\\/]\", \"-\");\n",
    "plot_outputs_Plots(OUTPUTS,savename)\n",
    "save(\"./data/$(savename).jld\", \"OUTPUTS\", OUTPUTS)\n"
   ]
  },
  {
   "cell_type": "code",
   "execution_count": null,
   "metadata": {
    "collapsed": true
   },
   "outputs": [],
   "source": []
  }
 ],
 "metadata": {
  "anaconda-cloud": {},
  "kernelspec": {
   "display_name": "Julia 0.5.0",
   "language": "julia",
   "name": "julia-0.5"
  },
  "language_info": {
   "file_extension": ".jl",
   "mimetype": "application/julia",
   "name": "julia",
   "version": "0.5.0"
  }
 },
 "nbformat": 4,
 "nbformat_minor": 1
}
