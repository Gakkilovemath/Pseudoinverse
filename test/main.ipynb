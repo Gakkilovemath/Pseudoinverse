{
 "cells": [
  {
   "cell_type": "markdown",
   "metadata": {},
   "source": [
    "The main workspace for calculating pseudoinverse $A^\\dagger$ of nonsymmetric matrices"
   ]
  },
  {
   "cell_type": "code",
   "execution_count": 15,
   "metadata": {
    "collapsed": false
   },
   "outputs": [],
   "source": [
    "workspace()"
   ]
  },
  {
   "cell_type": "code",
   "execution_count": 24,
   "metadata": {
    "collapsed": false
   },
   "outputs": [
    {
     "name": "stderr",
     "output_type": "stream",
     "text": [
      "WARNING: replacing module Pseudoinverse\n",
      "WARNING: ignoring conflicting import of Pseudoinverse.MyOptions into Main\n",
      "WARNING: ignoring conflicting import of Pseudoinverse.uniform_mat_rank into Main\n",
      "WARNING: ignoring conflicting import of Pseudoinverse.Method into Main\n",
      "WARNING: ignoring conflicting import of Pseudoinverse.Output into Main\n",
      "WARNING: ignoring conflicting import of Pseudoinverse.pseudoinvert_matrix into Main\n",
      "WARNING: ignoring conflicting import of Pseudoinverse.Prob into Main\n",
      "WARNING: ignoring conflicting import of Pseudoinverse.uniform_sym_rank into Main\n",
      "WARNING: ignoring conflicting import of Pseudoinverse.plot_outputs_Plots into Main\n"
     ]
    }
   ],
   "source": [
    "using Plots\n",
    "using MatrixDepot   # for downloading and loading matrices from the UF sparse matrix collection\n",
    "using StatsBase\n",
    "using JLD  \n",
    "include(\"../src/Pseudoinverse.jl\")\n",
    "importall Pseudoinverse"
   ]
  },
  {
   "cell_type": "code",
   "execution_count": 18,
   "metadata": {
    "collapsed": false
   },
   "outputs": [],
   "source": [
    "# Uniform random\n",
    "m = 50;    # number of columns\n",
    "n= 200;    # number of rows\n",
    "r = 20;    # rankd\n",
    "prob = uniform_mat_rank(m,n,r);"
   ]
  },
  {
   "cell_type": "code",
   "execution_count": 26,
   "metadata": {
    "collapsed": false
   },
   "outputs": [
    {
     "name": "stderr",
     "output_type": "stream",
     "text": [
      "  % Total    % Received % Xferd  Average Speed   Time    Time     Time  Current\n",
      "                                 Dload  Upload   Total   Spent    Left  Speed\n",
      " 34  120k   34 42944    0     0  46937      0  0:00:02 --:--:--  0:00:02 54497"
     ]
    },
    {
     "name": "stdout",
     "output_type": "stream",
     "text": [
      "download:/home/robert/.julia/v0.5/MatrixDepot/src/../data/uf/NYPA/Maragal_3.tar.gz\n"
     ]
    },
    {
     "name": "stderr",
     "output_type": "stream",
     "text": [
      "\r",
      "100  120k  100  120k    0     0   107k      0  0:00:01  0:00:01 --:--:--  120k\n"
     ]
    },
    {
     "name": "stdout",
     "output_type": "stream",
     "text": [
      "Maragal_3/Maragal_3.mtx\n",
      "Maragal_3/Maragal_3_b.mtx\n"
     ]
    },
    {
     "data": {
      "text/plain": [
       "(1690,860)"
      ]
     },
     "execution_count": 26,
     "metadata": {},
     "output_type": "execute_result"
    }
   ],
   "source": [
    "# Rank deficient matrices from UF sparse matrix collection\n",
    "# NYPA/Maragal_3, NYPA/Maragal_4, NYPA/Maragal_5, \n",
    "# Meszaros/primagaz  LPnetlib/lp_fit2d  LPnetlib/lp_ken_07\n",
    "name = \"NYPA/Maragal_3\"  \n",
    "#matrixdepot(name, :get);    # Use this for first time call\n",
    "A = matrixdepot(name, :read);\n",
    "exacterror =false;\n",
    "sA= size(A); m= sA[1] ; n = sA[2];\n",
    "prob = Prob(A,[],[], [], name);\n",
    "size(A)"
   ]
  },
  {
   "cell_type": "code",
   "execution_count": 27,
   "metadata": {
    "collapsed": true
   },
   "outputs": [],
   "source": [
    "#Basic parameters\n",
    "tol = 10.0^(-2); restol = 10.0^(-5);\n",
    "maxiter=1000;\n",
    "max_time = 100;\n",
    "printiters = true;\n",
    "exacterror =false;"
   ]
  },
  {
   "cell_type": "code",
   "execution_count": 28,
   "metadata": {
    "collapsed": false
   },
   "outputs": [
    {
     "data": {
      "text/plain": [
       "Pseudoinverse.MyOptions(860,1690,0,\"uni\",0.01,1.0e-5,1000,1,100.0,true,false,\"none\")"
      ]
     },
     "execution_count": 28,
     "metadata": {},
     "output_type": "execute_result"
    }
   ],
   "source": [
    "skip_error_calculation = 1;   # number of iterations where error is not calculated (to save time!) ceil((m)^(1/2))\n",
    "options = MyOptions(n,m,0,\"uni\",tol,restol,maxiter,skip_error_calculation,max_time,printiters,exacterror, \"none\") "
   ]
  },
  {
   "cell_type": "code",
   "execution_count": null,
   "metadata": {
    "collapsed": false
   },
   "outputs": [],
   "source": [
    "# Testing three methods\n",
    "options.max_time = 20; options.restol = 10.0^(-8);\n",
    "OUTPUTS = [];\n",
    "method_name = \"SATAX\";#\"SATAX\"; \"NewtonSchultz\" \"SAXAS\"\n",
    "options.sketch = \"uni\";\n",
    "options.M0type = \"ATproj\";   # Select initial matrix, options: ATproj, eye\n",
    "output= pseudoinvert_matrix(prob, method_name, options);\n",
    "OUTPUTS = [OUTPUTS ; output];\n",
    "\n",
    "options.sketch = \"ada\";\n",
    "options.M0type = \"ATproj\";\n",
    "output= pseudoinvert_matrix(prob, method_name, options);\n",
    "OUTPUTS = [OUTPUTS ; output];\n",
    "\n",
    "method_name = \"NewtonSchulz\";\n",
    "output= pseudoinvert_matrix(prob, method_name, options);\n",
    "OUTPUTS = [OUTPUTS ; output];\n"
   ]
  },
  {
   "cell_type": "code",
   "execution_count": 22,
   "metadata": {
    "collapsed": false
   },
   "outputs": [],
   "source": [
    "savename = replace(prob.name, r\"[\\/]\", \"-\");\n",
    "save(\"../data/$(savename).jld\", \"OUTPUTS\", OUTPUTS)"
   ]
  },
  {
   "cell_type": "code",
   "execution_count": 32,
   "metadata": {
    "collapsed": false
   },
   "outputs": [
    {
     "ename": "LoadError",
     "evalue": "LoadError: UndefVarError: pgfplots not defined\nwhile loading In[32], in expression starting on line 1",
     "output_type": "error",
     "traceback": [
      "LoadError: UndefVarError: pgfplots not defined\nwhile loading In[32], in expression starting on line 1",
      ""
     ]
    }
   ],
   "source": [
    "pgfplots()\n",
    "plot_outputs_Plots(OUTPUTS,savename)"
   ]
  },
  {
   "cell_type": "code",
   "execution_count": 3,
   "metadata": {
    "collapsed": false
   },
   "outputs": [],
   "source": [
    "# Loading saved problem data\n",
    "probname = \"rcv1_train.binary-ridge\"#\"gisette_scale-ridge\";  \n",
    "test = load(\"./data/$(probname).jld\")\n",
    "OUTPUTS = test[\"OUTPUTS\"];\n",
    "# mask = [1,3,5]\n",
    "# OUTPUTS[mask]"
   ]
  },
  {
   "cell_type": "code",
   "execution_count": null,
   "metadata": {
    "collapsed": true
   },
   "outputs": [],
   "source": []
  }
 ],
 "metadata": {
  "anaconda-cloud": {},
  "kernelspec": {
   "display_name": "Julia 0.5.0",
   "language": "julia",
   "name": "julia-0.5"
  },
  "language_info": {
   "file_extension": ".jl",
   "mimetype": "application/julia",
   "name": "julia",
   "version": "0.5.0"
  }
 },
 "nbformat": 4,
 "nbformat_minor": 1
}
