{
 "cells": [
  {
   "cell_type": "markdown",
   "metadata": {},
   "source": [
    "The main workspace for calculating pseudoinverse $A^\\dagger$ of nonsymmetric matrices \n",
    "   \n",
    "To do list: \n",
    "Make sure NewtonSchulz has the correct $\\alpha$ in $\\alpha A^T$\n",
    "Perform tests on varying rank with fixed dimension"
   ]
  },
  {
   "cell_type": "code",
   "execution_count": 1,
   "metadata": {
    "collapsed": false
   },
   "outputs": [],
   "source": [
    "workspace()"
   ]
  },
  {
   "cell_type": "code",
   "execution_count": 1,
   "metadata": {
    "collapsed": false
   },
   "outputs": [
    {
     "name": "stderr",
     "output_type": "stream",
     "text": [
      "INFO: Recompiling stale cache file /home/robert/.julia/lib/v0.5/FixedSizeArrays.ji for module FixedSizeArrays.\n",
      "INFO: Recompiling stale cache file /home/robert/.julia/lib/v0.5/FixedPointNumbers.ji for module FixedPointNumbers.\n",
      "INFO: Recompiling stale cache file /home/robert/.julia/lib/v0.5/PlotUtils.ji for module PlotUtils.\n",
      "INFO: Recompiling stale cache file /home/robert/.julia/lib/v0.5/PlotThemes.ji for module PlotThemes.\n",
      "INFO: Recompiling stale cache file /home/robert/.julia/lib/v0.5/Showoff.ji for module Showoff.\n",
      "INFO: Recompiling stale cache file /home/robert/.julia/lib/v0.5/FileIO.ji for module FileIO.\n",
      "INFO: Recompiling stale cache file /home/robert/.julia/lib/v0.5/JLD.ji for module JLD.\n",
      "INFO: Recompiling stale cache file /home/robert/.julia/lib/v0.5/StatsBase.ji for module StatsBase.\n",
      "HDF5-DIAG: Error detected in HDF5 (1.8.11) thread 139677088427072:\n",
      "  #000: ../../../src/H5F.c line 1504 in H5Fcreate(): unable to create file\n",
      "    major: File accessibilty\n",
      "    minor: Unable to open file\n",
      "  #001: ../../../src/H5F.c line 1286 in H5F_open(): unable to open file: time = Mon Dec 19 14:56:29 2016\n",
      ", name = '/local/rgower/libsvmdata/details.jld', tent_flags = 13\n",
      "    major: File accessibilty\n",
      "    minor: Unable to open file\n",
      "  #002: ../../../src/H5FD.c line 987 in H5FD_open(): open failed\n",
      "    major: Virtual File Layer\n",
      "    minor: Unable to initialize object\n",
      "  #003: ../../../src/H5FDsec2.c line 343 in H5FD_sec2_open(): unable to open file: name = '/local/rgower/libsvmdata/details.jld', errno = 2, error message = 'No such file or directory', flags = 13, o_flags = 242\n",
      "    major: File accessibilty\n",
      "    minor: Unable to open file\n"
     ]
    },
    {
     "ename": "LoadError",
     "evalue": "LoadError: Error creating file /local/rgower/libsvmdata/details.jld\nwhile loading In[1], in expression starting on line 6",
     "output_type": "error",
     "traceback": [
      "LoadError: Error creating file /local/rgower/libsvmdata/details.jld\nwhile loading In[1], in expression starting on line 6",
      "",
      " in h5f_create(::String, ::UInt8, ::Int32, ::Int32) at /home/robert/.julia/v0.5/HDF5/src/plain.jl:2105",
      " in #jldopen#9(::Bool, ::Bool, ::Bool, ::Function, ::String, ::Bool, ::Bool, ::Bool, ::Bool, ::Bool) at /home/robert/.julia/v0.5/JLD/src/JLD.jl:182",
      " in (::JLD.#kw##jldopen)(::Array{Any,1}, ::JLD.#jldopen, ::String, ::Bool, ::Bool, ::Bool, ::Bool, ::Bool) at ./<missing>:0",
      " in #jldopen#10(::Bool, ::Bool, ::Bool, ::Function, ::String, ::String) at /home/robert/.julia/v0.5/JLD/src/JLD.jl:248",
      " in (::JLD.#kw##jldopen)(::Array{Any,1}, ::JLD.#jldopen, ::String, ::String) at ./<missing>:0",
      " in #jldopen#11(::Array{Any,1}, ::Function, ::JLD.##34#35{String,Dict{Any,Any},Tuple{}}, ::String, ::Vararg{String,N}) at /home/robert/.julia/v0.5/JLD/src/JLD.jl:258",
      " in (::JLD.#kw##jldopen)(::Array{Any,1}, ::JLD.#jldopen, ::Function, ::String, ::String) at ./<missing>:0",
      " in #save#33(::Bool, ::Bool, ::Function, ::FileIO.File{FileIO.DataFormat{:JLD}}, ::String, ::Dict{Any,Any}) at /home/robert/.julia/v0.5/JLD/src/JLD.jl:1164",
      " in save(::FileIO.File{FileIO.DataFormat{:JLD}}, ::String, ::Dict{Any,Any}) at /home/robert/.julia/v0.5/JLD/src/JLD.jl:1161",
      " in #save#14(::Array{Any,1}, ::Function, ::String, ::String, ::Vararg{Any,N}) at /home/robert/.julia/v0.5/FileIO/src/loadsave.jl:54",
      " in initDetails() at /home/robert/Dropbox/Software/julia/pseudoinverse/dataLoad.jl:27"
     ]
    }
   ],
   "source": [
    "using Plots\n",
    "using JLD\n",
    "include(\"pseudoinverse.jl\")\n",
    "include(\"ridge_regression_LIBSVM_data.jl\")  \n",
    "# IMPORTANT: before compiling, open dataLoad.jl and set the default_path variable \n",
    "include(\"dataLoad.jl\")                      # Code by Dominik Csiba see  http://www.dominikcsiba.com/\n",
    "initDetails()\n",
    "include(\"../src/Pseudoinverse.jl\")\n",
    "importall Pseudoinverse"
   ]
  },
  {
   "cell_type": "code",
   "execution_count": 12,
   "metadata": {
    "collapsed": false
   },
   "outputs": [],
   "source": [
    "#Basic parameters\n",
    "tol = 10.0^(-2); restol = 10.0^(-4);\n",
    "maxiter=1000;\n",
    "max_time = 500;\n",
    "printiters = true;    #Print iterations\n",
    "exacterror =false;    #Calculate error using ||X - A^\\dagger ||"
   ]
  },
  {
   "cell_type": "code",
   "execution_count": 13,
   "metadata": {
    "collapsed": false
   },
   "outputs": [],
   "source": [
    "# uniform symmetrized low rank matrix\n",
    "n = 5000;\n",
    "r =1000;\n",
    "prob = uniform_sym_rank(n,r); max_time = 200;"
   ]
  },
  {
   "cell_type": "code",
   "execution_count": 20,
   "metadata": {
    "collapsed": false
   },
   "outputs": [],
   "source": [
    "#ridge regression matrix using LIBSVM data\n",
    "dataset = \"rcv1_train.binary\"; # a9a, mushrooms, gisette_scale\n",
    "#transformDataJLD(dataset)\n",
    "prob = ridge_regression_LIBSVM_data(dataset);\n",
    "sA = size(prob.A);\n",
    "n = sA[1];"
   ]
  },
  {
   "cell_type": "code",
   "execution_count": 21,
   "metadata": {
    "collapsed": false
   },
   "outputs": [
    {
     "data": {
      "text/plain": [
       "pseudoinverse.MyOptions(20242,20242,0,\"uni\",0.01,0.0001,1000,2,200.0,true,false,\"none\")"
      ]
     },
     "execution_count": 21,
     "metadata": {},
     "output_type": "execute_result"
    }
   ],
   "source": [
    "skip_error_calculation = 2;    # number of iterations where error is not calculated (to save time!)\n",
    "options = MyOptions(n,n,0 ,\"uni\",tol,restol, maxiter,skip_error_calculation,max_time,printiters,exacterror, \"none\") "
   ]
  },
  {
   "cell_type": "code",
   "execution_count": null,
   "metadata": {
    "collapsed": false,
    "scrolled": true
   },
   "outputs": [],
   "source": [
    "    OUTPUTS = [];\n",
    "    options.max_time =2000;\n",
    "    method_name = \"SAXAS\";#        # Options of methods\"SATAX\"; \"NewtonSchultz\" \"SAXAS\"\n",
    "    options.sketch = \"ada\";\n",
    "    options.M0type = \"ATAnorm\";    # select initial matrix, options: eye, ATAnorm\n",
    "    output= pseudoinvert_matrix(prob, method_name, options);\n",
    "    OUTPUTS = [OUTPUTS ; output];\n",
    "\n",
    "    options.sketch = \"uni\";\n",
    "    options.M0type = \"ATAnorm\";\n",
    "    output= pseudoinvert_matrix(prob, method_name, options);\n",
    "    OUTPUTS = [OUTPUTS ; output];\n",
    "\n",
    "    method_name = \"NewtonSchulz\";#\"SATAX\"; \"NewtonSchultz\" \"SAXAS\"\n",
    "    output= pseudoinvert_matrix(prob, method_name, options);\n",
    "    OUTPUTS = [OUTPUTS ; output];"
   ]
  },
  {
   "cell_type": "code",
   "execution_count": 23,
   "metadata": {
    "collapsed": false
   },
   "outputs": [],
   "source": [
    "savename = replace(prob.name, r\"[\\/]\", \"-\");\n",
    "save(\"./data/$(savename).jld\", \"OUTPUTS\", OUTPUTS)"
   ]
  },
  {
   "cell_type": "code",
   "execution_count": 24,
   "metadata": {
    "collapsed": false
   },
   "outputs": [
    {
     "name": "stdout",
     "output_type": "stream",
     "text": [
      "rcv1_train.binary-ridge\n"
     ]
    }
   ],
   "source": [
    "pgfplots()\n",
    "plot_outputs_Plots(OUTPUTS,savename)\n",
    "save(\"./data/$(savename).jld\", \"OUTPUTS\", OUTPUTS)"
   ]
  },
  {
   "cell_type": "code",
   "execution_count": null,
   "metadata": {
    "collapsed": false
   },
   "outputs": [],
   "source": [
    "# Load saved data\n",
    "savename = \"gisette_scale-ridge\"\n",
    "test = load(\"./data/$(savename).jld\")\n",
    "OUTPUTS = test[\"OUTPUTS\"];"
   ]
  },
  {
   "cell_type": "code",
   "execution_count": null,
   "metadata": {
    "collapsed": true
   },
   "outputs": [],
   "source": []
  }
 ],
 "metadata": {
  "anaconda-cloud": {},
  "kernelspec": {
   "display_name": "Julia 0.5.0",
   "language": "julia",
   "name": "julia-0.5"
  },
  "language_info": {
   "file_extension": ".jl",
   "mimetype": "application/julia",
   "name": "julia",
   "version": "0.5.0"
  }
 },
 "nbformat": 4,
 "nbformat_minor": 1
}
